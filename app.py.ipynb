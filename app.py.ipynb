{
 "cells": [
  {
   "cell_type": "code",
   "execution_count": 1,
   "metadata": {},
   "outputs": [],
   "source": [
    "import numpy as np\n",
    "import re\n",
    "import datetime as dt\n",
    "\n",
    "import sqlalchemy\n",
    "from sqlalchemy.ext.automap import automap_base\n",
    "from sqlalchemy.orm import Session\n",
    "from sqlalchemy import create_engine, func\n",
    "from sqlalchemy.sql import exists  \n",
    "\n",
    "from flask import Flask, jsonify"
   ]
  },
  {
   "cell_type": "code",
   "execution_count": 2,
   "metadata": {},
   "outputs": [],
   "source": [
    "# Database Setup\n"
   ]
  },
  {
   "cell_type": "code",
   "execution_count": 3,
   "metadata": {},
   "outputs": [],
   "source": [
    "engine = create_engine(\"sqlite:///Resources/hawaii.sqlite\")\n",
    "\n",
    "# reflect an existing database into a new model\n",
    "Base = automap_base()\n",
    "# reflect the tables\n",
    "Base.prepare(engine, reflect=True)\n",
    "\n",
    "# Save reference to the tables\n",
    "Measurement = Base.classes.measurement\n",
    "Station = Base.classes.station"
   ]
  },
  {
   "cell_type": "code",
   "execution_count": 4,
   "metadata": {},
   "outputs": [],
   "source": [
    "# Flask Setup\n",
    "\n",
    "app = Flask(__name__)"
   ]
  },
  {
   "cell_type": "code",
   "execution_count": 5,
   "metadata": {},
   "outputs": [],
   "source": [
    "# Flask Routes\n",
    "\n",
    "@app.route(\"/\")\n",
    "def welcome():\n",
    "    \"\"\"List all available api routes.\"\"\"\n",
    "    return (\n",
    "        f\"Available Routes:<br/>\"\n",
    "        f\"/api/v1.0/precipitation<br/>\"\n",
    "        f\"/api/v1.0/stations<br/>\"\n",
    "        f\"/api/v1.0/tobs<br/>\"\n",
    "        f\"/api/v1.0/start (enter as YYYY-MM-DD)<br/>\"\n",
    "        f\"/api/v1.0/start/end (enter as YYYY-MM-DD/YYYY-MM-DD)\"\n",
    "\n",
    "    )\n",
    "\n",
    "#Convert query results to a dictionary\n",
    "@app.route(\"/api/v1.0/precipitation\") \n",
    "def precipitation():\n",
    "    # Create session (link) from Python to the DB\n",
    "    session = Session(engine)\n",
    "\n",
    "    # Query Measurement\n",
    "    results = (session.query(Measurement.date, Measurement.tobs)\n",
    "                      .order_by(Measurement.date))\n",
    "    \n",
    "    \n",
    "    # Create a dictionary\n",
    "    precipitation_date_tobs = []\n",
    "    for each_row in results:\n",
    "        dt_dict = {}\n",
    "        dt_dict[\"date\"] = each_row.date\n",
    "        dt_dict[\"tobs\"] = each_row.tobs\n",
    "        precipitation_date_tobs.append(dt_dict)\n",
    "\n",
    "    return jsonify(precipitation_date_tobs)\n",
    "\n",
    "@app.route(\"/api/v1.0/stations\") #Return a JSON list of stations \n",
    "def stations():\n",
    "    # Create session (link) from Python to the DB\n",
    "    session = Session(engine)\n",
    "\n",
    "    # Query the Stations\n",
    "    results = session.query(Station.name).all()\n",
    "\n",
    "    # Convert list of tuples into normal list\n",
    "    station_details = list(np.ravel(results))\n",
    "\n",
    "    return jsonify(station_details)\n",
    "\n"
   ]
  },
  {
   "cell_type": "code",
   "execution_count": 6,
   "metadata": {},
   "outputs": [],
   "source": [
    "# Query the dates and temps observations of the most active station for the last year\n",
    "@app.route(\"/api/v1.0/tobs\")\n",
    "def tobs():\n",
    "    # Create our session (link) from Python to the DB\n",
    "    session = Session(engine)\n",
    "\n",
    "    # Query Measurements for latest date and calculate query_start_date\n",
    "    latest_date = (session.query(Measurement.date)\n",
    "                          .order_by(Measurement.date\n",
    "                          .desc())\n",
    "                          .first())\n",
    "    \n",
    "    latest_date_str = str(latest_date)\n",
    "    latest_date_str = re.sub(\"'|,\", \"\",latest_date_str)\n",
    "    latest_date_obj = dt.datetime.strptime(latest_date_str, '(%Y-%m-%d)')\n",
    "    query_start_date = dt.date(latest_date_obj.year, latest_date_obj.month, latest_date_obj.day) - dt.timedelta(days=366)\n",
    "     \n",
    "    # Query station names and their observation counts sorted descending and select most active station\n",
    "    q_station_list = (session.query(Measurement.station, func.count(Measurement.station))\n",
    "                             .group_by(Measurement.station)\n",
    "                             .order_by(func.count(Measurement.station).desc())\n",
    "                             .all())\n",
    "    \n",
    "    station_hno = q_station_list[0][0]\n",
    "    print(station_hno)"
   ]
  },
  {
   "cell_type": "code",
   "execution_count": null,
   "metadata": {},
   "outputs": [],
   "source": []
  }
 ],
 "metadata": {
  "kernelspec": {
   "display_name": "Python 3",
   "language": "python",
   "name": "python3"
  },
  "language_info": {
   "codemirror_mode": {
    "name": "ipython",
    "version": 3
   },
   "file_extension": ".py",
   "mimetype": "text/x-python",
   "name": "python",
   "nbconvert_exporter": "python",
   "pygments_lexer": "ipython3",
   "version": "3.8.5"
  }
 },
 "nbformat": 4,
 "nbformat_minor": 4
}
